{
 "cells": [
  {
   "cell_type": "markdown",
   "metadata": {},
   "source": [
    "## Gestor de películas de IMDB\n",
    "---"
   ]
  },
  {
   "cell_type": "code",
   "execution_count": 24,
   "metadata": {},
   "outputs": [],
   "source": [
    "# importando librerías\n",
    "import datetime\n",
    "import os\n",
    "import sys\n",
    "import re\n",
    "import time\n",
    "\n",
    "try:\n",
    "    import imdb\n",
    "except ImportError:\n",
    "    imdb = None\n",
    "\n",
    "from rdflib import BNode, ConjunctiveGraph, URIRef, Literal, Namespace, RDF\n",
    "from rdflib.namespace import FOAF, DC"
   ]
  },
  {
   "cell_type": "code",
   "execution_count": 25,
   "metadata": {},
   "outputs": [],
   "source": [
    "# ubicacion donde estará el archivo RDF\n",
    "storefn = os.path.expanduser(\"./movies.n3\")"
   ]
  },
  {
   "cell_type": "code",
   "execution_count": 26,
   "metadata": {},
   "outputs": [],
   "source": [
    "storeuri = \"file://\" + storefn\n",
    "title = \"Películas vistas por %s\"\n",
    "\n",
    "# expresion regular para agregar a la persona \n",
    "r_who = re.compile(r\"^(.*?) <([a-z0-9_-]+(\\.[a-z0-9_-]+)*@[a-z0-9_-]+(\\.[a-z0-9_-]+)+)>$\")"
   ]
  },
  {
   "cell_type": "code",
   "execution_count": 27,
   "metadata": {},
   "outputs": [],
   "source": [
    "# namespaces de imdb\n",
    "IMDB = Namespace(\"http://www.csd.abdn.ac.uk/~ggrimnes/dev/imdb/IMDB#\")\n",
    "REV = Namespace(\"http://purl.org/stuff/rev#\")"
   ]
  },
  {
   "cell_type": "code",
   "execution_count": 28,
   "metadata": {},
   "outputs": [],
   "source": [
    "class Store:\n",
    "    def __init__(self):\n",
    "        self.graph = ConjunctiveGraph()\n",
    "        if os.path.exists(storefn):\n",
    "            self.graph.load(storeuri, format=\"n3\")\n",
    "        self.graph.bind(\"dc\", DC)\n",
    "        self.graph.bind(\"foaf\", FOAF)\n",
    "        self.graph.bind(\"imdb\", IMDB)\n",
    "        self.graph.bind(\"rev\", \"http://purl.org/stuff/rev#\")\n",
    "\n",
    "    def save(self):\n",
    "        self.graph.serialize(storeuri, format=\"n3\")\n",
    "\n",
    "    def who(self, who=None):\n",
    "        if who is not None:\n",
    "            name, email = (r_who.match(who).group(1), r_who.match(who).group(2))\n",
    "            self.graph.add((URIRef(storeuri), DC[\"title\"], Literal(title % name)))\n",
    "            self.graph.add((URIRef(storeuri + \"#author\"), RDF.type, FOAF[\"Person\"]))\n",
    "            self.graph.add((URIRef(storeuri + \"#author\"), FOAF[\"name\"], Literal(name)))\n",
    "            self.graph.add((URIRef(storeuri + \"#author\"), FOAF[\"mbox\"], Literal(email)))\n",
    "            self.save()\n",
    "        else:\n",
    "            return self.graph.objects(URIRef(storeuri + \"#author\"), FOAF[\"name\"])\n",
    "\n",
    "    def new_movie(self, movie):\n",
    "        movieuri = URIRef(\"http://www.imdb.com/title/tt%s/\" % movie.movieID)\n",
    "        self.graph.add((movieuri, RDF.type, IMDB[\"Movie\"]))\n",
    "        self.graph.add((movieuri, DC[\"title\"], Literal(movie[\"title\"])))\n",
    "        self.graph.add((movieuri, IMDB[\"year\"], Literal(int(movie[\"year\"]))))\n",
    "        self.save()\n",
    "\n",
    "    def new_review(self, movie, date, rating, comment=None):\n",
    "        review = BNode()  # @@ humanize the identifier (something like #rev-$date)\n",
    "        movieuri = URIRef(\"http://www.imdb.com/title/tt%s/\" % movie.movieID)\n",
    "        self.graph.add((movieuri, REV[\"hasReview\"], URIRef(\"%s#%s\" % (storeuri, review))))\n",
    "        self.graph.add((review, RDF.type, REV[\"Review\"]))\n",
    "        self.graph.add((review, DC[\"date\"], Literal(date)))\n",
    "        self.graph.add((review, REV[\"maxRating\"], Literal(5)))\n",
    "        self.graph.add((review, REV[\"minRating\"], Literal(0)))\n",
    "        self.graph.add((review, REV[\"reviewer\"], URIRef(storeuri + \"#author\")))\n",
    "        self.graph.add((review, REV[\"rating\"], Literal(rating)))\n",
    "        if comment is not None:\n",
    "            self.graph.add((review, REV[\"text\"], Literal(comment)))\n",
    "        self.save()\n",
    "\n",
    "    def movie_is_in(self, uri):\n",
    "        return (URIRef(uri), RDF.type, IMDB[\"Movie\"]) in self.graph\n",
    "\n",
    "    def returnGraph(self):\n",
    "        return self.graph\n",
    "    \n",
    "s = Store()"
   ]
  },
  {
   "cell_type": "code",
   "execution_count": 29,
   "metadata": {},
   "outputs": [
    {
     "ename": "IndexError",
     "evalue": "list index out of range",
     "output_type": "error",
     "traceback": [
      "\u001b[0;31m---------------------------------------------------------------------------\u001b[0m",
      "\u001b[0;31mIndexError\u001b[0m                                Traceback (most recent call last)",
      "\u001b[0;32m<ipython-input-29-d8aa27afae7c>\u001b[0m in \u001b[0;36m<module>\u001b[0;34m\u001b[0m\n\u001b[1;32m      5\u001b[0m         \u001b[0ms\u001b[0m\u001b[0;34m.\u001b[0m\u001b[0mwho\u001b[0m\u001b[0;34m(\u001b[0m\u001b[0mname\u001b[0m\u001b[0;34m)\u001b[0m\u001b[0;34m\u001b[0m\u001b[0;34m\u001b[0m\u001b[0m\n\u001b[1;32m      6\u001b[0m \u001b[0;34m\u001b[0m\u001b[0m\n\u001b[0;32m----> 7\u001b[0;31m \u001b[0madd\u001b[0m\u001b[0;34m(\u001b[0m\u001b[0;34mr\"Jordi Bardales <jbardales@outlook.com>\"\u001b[0m\u001b[0;34m)\u001b[0m\u001b[0;34m\u001b[0m\u001b[0;34m\u001b[0m\u001b[0m\n\u001b[0m",
      "\u001b[0;32m<ipython-input-29-d8aa27afae7c>\u001b[0m in \u001b[0;36madd\u001b[0;34m(name)\u001b[0m\n\u001b[1;32m      1\u001b[0m \u001b[0;32mdef\u001b[0m \u001b[0madd\u001b[0m\u001b[0;34m(\u001b[0m\u001b[0mname\u001b[0m\u001b[0;34m)\u001b[0m\u001b[0;34m:\u001b[0m\u001b[0;34m\u001b[0m\u001b[0;34m\u001b[0m\u001b[0m\n\u001b[1;32m      2\u001b[0m     \u001b[0;32mif\u001b[0m \u001b[0mos\u001b[0m\u001b[0;34m.\u001b[0m\u001b[0mpath\u001b[0m\u001b[0;34m.\u001b[0m\u001b[0mexists\u001b[0m\u001b[0;34m(\u001b[0m\u001b[0mstorefn\u001b[0m\u001b[0;34m)\u001b[0m\u001b[0;34m:\u001b[0m\u001b[0;34m\u001b[0m\u001b[0;34m\u001b[0m\u001b[0m\n\u001b[0;32m----> 3\u001b[0;31m         \u001b[0mprint\u001b[0m\u001b[0;34m(\u001b[0m\u001b[0mlist\u001b[0m\u001b[0;34m(\u001b[0m\u001b[0ms\u001b[0m\u001b[0;34m.\u001b[0m\u001b[0mwho\u001b[0m\u001b[0;34m(\u001b[0m\u001b[0;34m)\u001b[0m\u001b[0;34m)\u001b[0m\u001b[0;34m[\u001b[0m\u001b[0;36m0\u001b[0m\u001b[0;34m]\u001b[0m\u001b[0;34m)\u001b[0m\u001b[0;34m\u001b[0m\u001b[0;34m\u001b[0m\u001b[0m\n\u001b[0m\u001b[1;32m      4\u001b[0m     \u001b[0;32melse\u001b[0m\u001b[0;34m:\u001b[0m\u001b[0;34m\u001b[0m\u001b[0;34m\u001b[0m\u001b[0m\n\u001b[1;32m      5\u001b[0m         \u001b[0ms\u001b[0m\u001b[0;34m.\u001b[0m\u001b[0mwho\u001b[0m\u001b[0;34m(\u001b[0m\u001b[0mname\u001b[0m\u001b[0;34m)\u001b[0m\u001b[0;34m\u001b[0m\u001b[0;34m\u001b[0m\u001b[0m\n",
      "\u001b[0;31mIndexError\u001b[0m: list index out of range"
     ]
    }
   ],
   "source": [
    "def add(name):\n",
    "    if os.path.exists(storefn):\n",
    "        print(list(s.who())[0])\n",
    "    else:\n",
    "        s.who(name)\n",
    "        \n",
    "add(r\"Jordi Bardales <jbardales@outlook.com>\")"
   ]
  },
  {
   "cell_type": "code",
   "execution_count": 20,
   "metadata": {},
   "outputs": [],
   "source": [
    "def addMovie(url_movie):\n",
    "    if s.movie_is_in(url_movie):\n",
    "        print(\"La pelicula ya fue registrada\")\n",
    "    else:\n",
    "        i = imdb.IMDb()\n",
    "        movie = i.get_movie(url_movie[len(\"https://www.imdb.com/title/tt\") : -1])\n",
    "        print((movie[\"title\"].encode(\"utf-8\"),\" year:\", movie[\"year\"]))\n",
    "        for director in movie[\"director\"]:\n",
    "            print(\"directed by: %s\" % director[\"name\"].encode(\"utf-8\"))\n",
    "        for writer in movie[\"writer\"]:\n",
    "            print(\"written by: %s\" % writer[\"name\"].encode(\"utf-8\"))\n",
    "        s.new_movie(movie)\n",
    "        rating = None\n",
    "        while not rating or (rating > 5 or rating <= 0):\n",
    "            try:\n",
    "                rating = int(eval(input(\"Rating (on five): \")))\n",
    "            except ValueError:\n",
    "                rating = None\n",
    "        date = None\n",
    "        while not date:\n",
    "            try:\n",
    "                i = eval(input(\"Review date (YYYY-MM-DD): \"))\n",
    "                date = datetime.datetime(*time.strptime(i, \"%Y-%m-%d\")[:6])\n",
    "            except:\n",
    "                date = None\n",
    "        comment = eval(input(\"Comment: \"))\n",
    "        s.new_review(movie, date, rating, comment)\n",
    "        print(\"La pelicula registrada correctamente.\")"
   ]
  },
  {
   "cell_type": "code",
   "execution_count": 21,
   "metadata": {},
   "outputs": [
    {
     "name": "stderr",
     "output_type": "stream",
     "text": [
      "2021-05-10 12:36:07,219 ERROR [imdbpy.parser.http.domparser] /home/jesus/.local/lib/python3.8/site-packages/imdb/parser/http/utils.py:467: DOMHTMLMovieParser: caught exception extracting XPath \"//b[text()='Series Crew']\"\n",
      "Traceback (most recent call last):\n",
      "  File \"/home/jesus/anaconda3/envs/py36/lib/python3.8/xml/etree/ElementPath.py\", line 354, in iterfind\n",
      "    selector = _cache[cache_key]\n",
      "KeyError: (\".//b[text()='Series Crew']\",)\n",
      "\n",
      "During handling of the above exception, another exception occurred:\n",
      "\n",
      "Traceback (most recent call last):\n",
      "  File \"/home/jesus/.local/lib/python3.8/site-packages/imdb/parser/http/utils.py\", line 465, in xpath\n",
      "    return piculet_xpath(element, path)\n",
      "  File \"/home/jesus/.local/lib/python3.8/site-packages/imdb/parser/http/piculet.py\", line 327, in <lambda>\n",
      "    xpath = lambda e, p: XPath(p)(e)\n",
      "  File \"/home/jesus/.local/lib/python3.8/site-packages/imdb/parser/http/piculet.py\", line 325, in __call__\n",
      "    return self._apply(element)\n",
      "  File \"/home/jesus/anaconda3/envs/py36/lib/python3.8/xml/etree/ElementPath.py\", line 395, in findall\n",
      "    return list(iterfind(elem, path, namespaces))\n",
      "  File \"/home/jesus/anaconda3/envs/py36/lib/python3.8/xml/etree/ElementPath.py\", line 368, in iterfind\n",
      "    selector.append(ops[token[0]](next, token))\n",
      "  File \"/home/jesus/anaconda3/envs/py36/lib/python3.8/xml/etree/ElementPath.py\", line 321, in prepare_predicate\n",
      "    raise SyntaxError(\"invalid predicate\")\n",
      "  File \"<string>\", line None\n",
      "SyntaxError: invalid predicate\n",
      "2021-05-10 12:36:07,222 ERROR [imdbpy.parser.http.domparser] /home/jesus/.local/lib/python3.8/site-packages/imdb/parser/http/utils.py:426: DOMHTMLMovieParser: caught exception preprocessing DOM\n",
      "Traceback (most recent call last):\n",
      "  File \"/home/jesus/anaconda3/envs/py36/lib/python3.8/xml/etree/ElementPath.py\", line 354, in iterfind\n",
      "    selector = _cache[cache_key]\n",
      "KeyError: ('.//a[@class=\"tn15more\"][starts-with(@href, \"/title/\")]',)\n",
      "\n",
      "During handling of the above exception, another exception occurred:\n",
      "\n",
      "Traceback (most recent call last):\n",
      "  File \"/home/jesus/.local/lib/python3.8/site-packages/imdb/parser/http/utils.py\", line 424, in parse\n",
      "    dom = self.preprocess_dom(dom)\n",
      "  File \"/home/jesus/.local/lib/python3.8/site-packages/imdb/parser/http/movieParser.py\", line 701, in preprocess_dom\n",
      "    preprocessors.remove(dom, '//a[@class=\"tn15more\"][starts-with(@href, \"/title/\")]')\n",
      "  File \"/home/jesus/.local/lib/python3.8/site-packages/imdb/parser/http/piculet.py\", line 609, in remove_elements\n",
      "    elements = XPath(path)(root)\n",
      "  File \"/home/jesus/.local/lib/python3.8/site-packages/imdb/parser/http/piculet.py\", line 325, in __call__\n",
      "    return self._apply(element)\n",
      "  File \"/home/jesus/anaconda3/envs/py36/lib/python3.8/xml/etree/ElementPath.py\", line 395, in findall\n",
      "    return list(iterfind(elem, path, namespaces))\n",
      "  File \"/home/jesus/anaconda3/envs/py36/lib/python3.8/xml/etree/ElementPath.py\", line 368, in iterfind\n",
      "    selector.append(ops[token[0]](next, token))\n",
      "  File \"/home/jesus/anaconda3/envs/py36/lib/python3.8/xml/etree/ElementPath.py\", line 321, in prepare_predicate\n",
      "    raise SyntaxError(\"invalid predicate\")\n",
      "  File \"<string>\", line None\n",
      "SyntaxError: invalid predicate\n",
      "2021-05-10 12:36:07,224 CRITICAL [imdbpy] /home/jesus/.local/lib/python3.8/site-packages/imdb/__init__.py:789: caught an exception retrieving or parsing \"main\" info set for mopID \"1277953\" (accessSystem: http)\n",
      "Traceback (most recent call last):\n",
      "  File \"/home/jesus/.local/lib/python3.8/site-packages/imdb/__init__.py\", line 787, in update\n",
      "    ret = method(mopID)\n",
      "  File \"/home/jesus/.local/lib/python3.8/site-packages/imdb/parser/http/__init__.py\", line 464, in get_movie_main\n",
      "    return self.mProxy.movie_parser.parse(cont, mdparse=self._mdparse)\n",
      "  File \"/home/jesus/.local/lib/python3.8/site-packages/imdb/parser/http/utils.py\", line 434, in parse\n",
      "    data = self.parse_dom(dom)\n",
      "  File \"/home/jesus/.local/lib/python3.8/site-packages/imdb/parser/http/utils.py\", line 526, in parse_dom\n",
      "    return Rules(self.rules).extract(dom)\n",
      "  File \"/home/jesus/.local/lib/python3.8/site-packages/imdb/parser/http/piculet.py\", line 373, in extract\n",
      "    value = self.apply(element)\n",
      "  File \"/home/jesus/.local/lib/python3.8/site-packages/imdb/parser/http/piculet.py\", line 517, in apply\n",
      "    extracted = rule.extract(subroot)\n",
      "  File \"/home/jesus/.local/lib/python3.8/site-packages/imdb/parser/http/piculet.py\", line 574, in extract\n",
      "    value = self.extractor.extract(subroot)\n",
      "  File \"/home/jesus/.local/lib/python3.8/site-packages/imdb/parser/http/piculet.py\", line 373, in extract\n",
      "    value = self.apply(element)\n",
      "  File \"/home/jesus/.local/lib/python3.8/site-packages/imdb/parser/http/piculet.py\", line 456, in apply\n",
      "    selected = self.path(element)\n",
      "  File \"/home/jesus/.local/lib/python3.8/site-packages/imdb/parser/http/piculet.py\", line 325, in __call__\n",
      "    return self._apply(element)\n",
      "  File \"/home/jesus/anaconda3/envs/py36/lib/python3.8/xml/etree/ElementPath.py\", line 395, in findall\n",
      "    return list(iterfind(elem, path, namespaces))\n",
      "  File \"/home/jesus/anaconda3/envs/py36/lib/python3.8/xml/etree/ElementPath.py\", line 374, in iterfind\n",
      "    token = next()\n",
      "  File \"/home/jesus/anaconda3/envs/py36/lib/python3.8/xml/etree/ElementPath.py\", line 86, in xpath_tokenizer\n",
      "    raise SyntaxError(\"prefix %r not found in prefix map\" % prefix) from None\n",
      "  File \"<string>\", line None\n",
      "SyntaxError: prefix 'preceding-sibling' not found in prefix map\n",
      "2021-05-10 12:36:08,264 WARNING [imdbpy.parser.http.domparser] /home/jesus/.local/lib/python3.8/site-packages/imdb/parser/http/utils.py:432: DOMHTMLPlotParser: unable to gather refs\n",
      "Traceback (most recent call last):\n",
      "  File \"/home/jesus/anaconda3/envs/py36/lib/python3.8/xml/etree/ElementPath.py\", line 354, in iterfind\n",
      "    selector = _cache[cache_key]\n",
      "KeyError: ('.//a[starts-with(@href, \"/name/nm\")]',)\n",
      "\n",
      "During handling of the above exception, another exception occurred:\n",
      "\n",
      "Traceback (most recent call last):\n",
      "  File \"/home/jesus/.local/lib/python3.8/site-packages/imdb/parser/http/utils.py\", line 430, in parse\n",
      "    self.gather_refs(dom)\n",
      "  File \"/home/jesus/.local/lib/python3.8/site-packages/imdb/parser/http/utils.py\", line 515, in gather_refs\n",
      "    refs = grParser.parse_dom(dom)\n",
      "  File \"/home/jesus/.local/lib/python3.8/site-packages/imdb/parser/http/utils.py\", line 526, in parse_dom\n",
      "    return Rules(self.rules).extract(dom)\n",
      "  File \"/home/jesus/.local/lib/python3.8/site-packages/imdb/parser/http/piculet.py\", line 373, in extract\n",
      "    value = self.apply(element)\n",
      "  File \"/home/jesus/.local/lib/python3.8/site-packages/imdb/parser/http/piculet.py\", line 517, in apply\n",
      "    extracted = rule.extract(subroot)\n",
      "  File \"/home/jesus/.local/lib/python3.8/site-packages/imdb/parser/http/piculet.py\", line 583, in extract\n",
      "    for r in self.extractor.foreach(subroot)]\n",
      "  File \"/home/jesus/.local/lib/python3.8/site-packages/imdb/parser/http/piculet.py\", line 325, in __call__\n",
      "    return self._apply(element)\n",
      "  File \"/home/jesus/anaconda3/envs/py36/lib/python3.8/xml/etree/ElementPath.py\", line 395, in findall\n",
      "    return list(iterfind(elem, path, namespaces))\n",
      "  File \"/home/jesus/anaconda3/envs/py36/lib/python3.8/xml/etree/ElementPath.py\", line 368, in iterfind\n",
      "    selector.append(ops[token[0]](next, token))\n",
      "  File \"/home/jesus/anaconda3/envs/py36/lib/python3.8/xml/etree/ElementPath.py\", line 321, in prepare_predicate\n",
      "    raise SyntaxError(\"invalid predicate\")\n",
      "  File \"<string>\", line None\n",
      "SyntaxError: invalid predicate\n"
     ]
    },
    {
     "ename": "KeyError",
     "evalue": "'title'",
     "output_type": "error",
     "traceback": [
      "\u001b[0;31m---------------------------------------------------------------------------\u001b[0m",
      "\u001b[0;31mKeyError\u001b[0m                                  Traceback (most recent call last)",
      "\u001b[0;32m<ipython-input-21-762d3aa98263>\u001b[0m in \u001b[0;36m<module>\u001b[0;34m\u001b[0m\n\u001b[0;32m----> 1\u001b[0;31m \u001b[0maddMovie\u001b[0m\u001b[0;34m(\u001b[0m\u001b[0;34m\"https://www.imdb.com/title/tt1277953/\"\u001b[0m\u001b[0;34m)\u001b[0m\u001b[0;34m\u001b[0m\u001b[0;34m\u001b[0m\u001b[0m\n\u001b[0m",
      "\u001b[0;32m<ipython-input-20-602c9a1b4fbb>\u001b[0m in \u001b[0;36maddMovie\u001b[0;34m(url_movie)\u001b[0m\n\u001b[1;32m      5\u001b[0m         \u001b[0mi\u001b[0m \u001b[0;34m=\u001b[0m \u001b[0mimdb\u001b[0m\u001b[0;34m.\u001b[0m\u001b[0mIMDb\u001b[0m\u001b[0;34m(\u001b[0m\u001b[0;34m)\u001b[0m\u001b[0;34m\u001b[0m\u001b[0;34m\u001b[0m\u001b[0m\n\u001b[1;32m      6\u001b[0m         \u001b[0mmovie\u001b[0m \u001b[0;34m=\u001b[0m \u001b[0mi\u001b[0m\u001b[0;34m.\u001b[0m\u001b[0mget_movie\u001b[0m\u001b[0;34m(\u001b[0m\u001b[0murl_movie\u001b[0m\u001b[0;34m[\u001b[0m\u001b[0mlen\u001b[0m\u001b[0;34m(\u001b[0m\u001b[0;34m\"https://www.imdb.com/title/tt\"\u001b[0m\u001b[0;34m)\u001b[0m \u001b[0;34m:\u001b[0m \u001b[0;34m-\u001b[0m\u001b[0;36m1\u001b[0m\u001b[0;34m]\u001b[0m\u001b[0;34m)\u001b[0m\u001b[0;34m\u001b[0m\u001b[0;34m\u001b[0m\u001b[0m\n\u001b[0;32m----> 7\u001b[0;31m         \u001b[0mprint\u001b[0m\u001b[0;34m(\u001b[0m\u001b[0;34m(\u001b[0m\u001b[0mmovie\u001b[0m\u001b[0;34m[\u001b[0m\u001b[0;34m\"title\"\u001b[0m\u001b[0;34m]\u001b[0m\u001b[0;34m.\u001b[0m\u001b[0mencode\u001b[0m\u001b[0;34m(\u001b[0m\u001b[0;34m\"utf-8\"\u001b[0m\u001b[0;34m)\u001b[0m\u001b[0;34m,\u001b[0m\u001b[0;34m\" year:\"\u001b[0m\u001b[0;34m,\u001b[0m \u001b[0mmovie\u001b[0m\u001b[0;34m[\u001b[0m\u001b[0;34m\"year\"\u001b[0m\u001b[0;34m]\u001b[0m\u001b[0;34m)\u001b[0m\u001b[0;34m)\u001b[0m\u001b[0;34m\u001b[0m\u001b[0;34m\u001b[0m\u001b[0m\n\u001b[0m\u001b[1;32m      8\u001b[0m         \u001b[0;32mfor\u001b[0m \u001b[0mdirector\u001b[0m \u001b[0;32min\u001b[0m \u001b[0mmovie\u001b[0m\u001b[0;34m[\u001b[0m\u001b[0;34m\"director\"\u001b[0m\u001b[0;34m]\u001b[0m\u001b[0;34m:\u001b[0m\u001b[0;34m\u001b[0m\u001b[0;34m\u001b[0m\u001b[0m\n\u001b[1;32m      9\u001b[0m             \u001b[0mprint\u001b[0m\u001b[0;34m(\u001b[0m\u001b[0;34m\"directed by: %s\"\u001b[0m \u001b[0;34m%\u001b[0m \u001b[0mdirector\u001b[0m\u001b[0;34m[\u001b[0m\u001b[0;34m\"name\"\u001b[0m\u001b[0;34m]\u001b[0m\u001b[0;34m.\u001b[0m\u001b[0mencode\u001b[0m\u001b[0;34m(\u001b[0m\u001b[0;34m\"utf-8\"\u001b[0m\u001b[0;34m)\u001b[0m\u001b[0;34m)\u001b[0m\u001b[0;34m\u001b[0m\u001b[0;34m\u001b[0m\u001b[0m\n",
      "\u001b[0;32m~/.local/lib/python3.8/site-packages/imdb/utils.py\u001b[0m in \u001b[0;36m__getitem__\u001b[0;34m(self, key)\u001b[0m\n\u001b[1;32m   1501\u001b[0m         \u001b[0;31m# Handle key aliases.\u001b[0m\u001b[0;34m\u001b[0m\u001b[0;34m\u001b[0m\u001b[0;34m\u001b[0m\u001b[0m\n\u001b[1;32m   1502\u001b[0m         \u001b[0mkey\u001b[0m \u001b[0;34m=\u001b[0m \u001b[0mself\u001b[0m\u001b[0;34m.\u001b[0m\u001b[0mkeys_alias\u001b[0m\u001b[0;34m.\u001b[0m\u001b[0mget\u001b[0m\u001b[0;34m(\u001b[0m\u001b[0mkey\u001b[0m\u001b[0;34m,\u001b[0m \u001b[0mkey\u001b[0m\u001b[0;34m)\u001b[0m\u001b[0;34m\u001b[0m\u001b[0;34m\u001b[0m\u001b[0m\n\u001b[0;32m-> 1503\u001b[0;31m         \u001b[0mrawData\u001b[0m \u001b[0;34m=\u001b[0m \u001b[0mself\u001b[0m\u001b[0;34m.\u001b[0m\u001b[0mdata\u001b[0m\u001b[0;34m[\u001b[0m\u001b[0mkey\u001b[0m\u001b[0;34m]\u001b[0m\u001b[0;34m\u001b[0m\u001b[0;34m\u001b[0m\u001b[0m\n\u001b[0m\u001b[1;32m   1504\u001b[0m         \u001b[0;32mif\u001b[0m \u001b[0mkey\u001b[0m \u001b[0;32min\u001b[0m \u001b[0mself\u001b[0m\u001b[0;34m.\u001b[0m\u001b[0mkeys_tomodify\u001b[0m \u001b[0;32mand\u001b[0m\u001b[0;31m \u001b[0m\u001b[0;31m\\\u001b[0m\u001b[0;34m\u001b[0m\u001b[0;34m\u001b[0m\u001b[0m\n\u001b[1;32m   1505\u001b[0m                 \u001b[0mself\u001b[0m\u001b[0;34m.\u001b[0m\u001b[0mmodFunct\u001b[0m \u001b[0;32mnot\u001b[0m \u001b[0;32min\u001b[0m \u001b[0;34m(\u001b[0m\u001b[0;32mNone\u001b[0m\u001b[0;34m,\u001b[0m \u001b[0mmodNull\u001b[0m\u001b[0;34m)\u001b[0m\u001b[0;34m:\u001b[0m\u001b[0;34m\u001b[0m\u001b[0;34m\u001b[0m\u001b[0m\n",
      "\u001b[0;31mKeyError\u001b[0m: 'title'"
     ]
    }
   ],
   "source": [
    "addMovie(\"https://www.imdb.com/title/tt1277953/\")"
   ]
  },
  {
   "cell_type": "markdown",
   "metadata": {},
   "source": [
    "## Visualización del grafo\n",
    "---"
   ]
  },
  {
   "cell_type": "code",
   "execution_count": 22,
   "metadata": {},
   "outputs": [
    {
     "ename": "ModuleNotFoundError",
     "evalue": "No module named 'networkx'",
     "output_type": "error",
     "traceback": [
      "\u001b[0;31m---------------------------------------------------------------------------\u001b[0m",
      "\u001b[0;31mModuleNotFoundError\u001b[0m                       Traceback (most recent call last)",
      "\u001b[0;32m<ipython-input-22-86a63c3b11dd>\u001b[0m in \u001b[0;36m<module>\u001b[0;34m\u001b[0m\n\u001b[0;32m----> 1\u001b[0;31m \u001b[0;32mimport\u001b[0m \u001b[0mnetworkx\u001b[0m \u001b[0;32mas\u001b[0m \u001b[0mnx\u001b[0m\u001b[0;34m\u001b[0m\u001b[0;34m\u001b[0m\u001b[0m\n\u001b[0m\u001b[1;32m      2\u001b[0m \u001b[0;32mimport\u001b[0m \u001b[0mmatplotlib\u001b[0m\u001b[0;34m.\u001b[0m\u001b[0mpyplot\u001b[0m \u001b[0;32mas\u001b[0m \u001b[0mplt\u001b[0m\u001b[0;34m\u001b[0m\u001b[0;34m\u001b[0m\u001b[0m\n\u001b[1;32m      3\u001b[0m \u001b[0;34m\u001b[0m\u001b[0m\n\u001b[1;32m      4\u001b[0m \u001b[0;32mclass\u001b[0m \u001b[0mGraphVisualization\u001b[0m\u001b[0;34m:\u001b[0m\u001b[0;34m\u001b[0m\u001b[0;34m\u001b[0m\u001b[0m\n\u001b[1;32m      5\u001b[0m     \u001b[0;32mdef\u001b[0m \u001b[0m__init__\u001b[0m\u001b[0;34m(\u001b[0m\u001b[0mself\u001b[0m\u001b[0;34m)\u001b[0m\u001b[0;34m:\u001b[0m\u001b[0;34m\u001b[0m\u001b[0;34m\u001b[0m\u001b[0m\n",
      "\u001b[0;31mModuleNotFoundError\u001b[0m: No module named 'networkx'"
     ]
    }
   ],
   "source": [
    "import networkx as nx\n",
    "import matplotlib.pyplot as plt\n",
    "\n",
    "class GraphVisualization:\n",
    "    def __init__(self):\n",
    "        self.visual = []\n",
    "\n",
    "    def addEdge(self, a, b):\n",
    "        temp = [a, b]\n",
    "        self.visual.append(temp)\n",
    "        \n",
    "    def visualize(self):\n",
    "        G = nx.DiGraph()\n",
    "        G.add_edges_from(self.visual)\n",
    "        # configuracion de los nodos\n",
    "        # nx.draw_networkx(G, font_family=\"Arial\", font_size=10, node_size=100, node_shape=\"o\", node_color='r', with_labels=True)\n",
    "        nx.draw_networkx(G)\n",
    "        plt.show()"
   ]
  },
  {
   "cell_type": "code",
   "execution_count": 23,
   "metadata": {},
   "outputs": [
    {
     "ename": "NameError",
     "evalue": "name 'GraphVisualization' is not defined",
     "output_type": "error",
     "traceback": [
      "\u001b[0;31m---------------------------------------------------------------------------\u001b[0m",
      "\u001b[0;31mNameError\u001b[0m                                 Traceback (most recent call last)",
      "\u001b[0;32m<ipython-input-23-a4058c5ce39f>\u001b[0m in \u001b[0;36m<module>\u001b[0;34m\u001b[0m\n\u001b[0;32m----> 1\u001b[0;31m \u001b[0mG\u001b[0m \u001b[0;34m=\u001b[0m \u001b[0mGraphVisualization\u001b[0m\u001b[0;34m(\u001b[0m\u001b[0;34m)\u001b[0m\u001b[0;34m\u001b[0m\u001b[0;34m\u001b[0m\u001b[0m\n\u001b[0m\u001b[1;32m      2\u001b[0m \u001b[0;34m\u001b[0m\u001b[0m\n\u001b[1;32m      3\u001b[0m \u001b[0;32mfor\u001b[0m \u001b[0msubject\u001b[0m\u001b[0;34m,\u001b[0m\u001b[0mpredicate\u001b[0m\u001b[0;34m,\u001b[0m\u001b[0mobj_\u001b[0m \u001b[0;32min\u001b[0m \u001b[0ms\u001b[0m\u001b[0;34m.\u001b[0m\u001b[0mreturnGraph\u001b[0m\u001b[0;34m(\u001b[0m\u001b[0;34m)\u001b[0m\u001b[0;34m:\u001b[0m\u001b[0;34m\u001b[0m\u001b[0;34m\u001b[0m\u001b[0m\n\u001b[1;32m      4\u001b[0m     \u001b[0mprint\u001b[0m\u001b[0;34m(\u001b[0m\u001b[0mpredicate\u001b[0m\u001b[0;34m)\u001b[0m\u001b[0;34m\u001b[0m\u001b[0;34m\u001b[0m\u001b[0m\n\u001b[1;32m      5\u001b[0m     \u001b[0mG\u001b[0m\u001b[0;34m.\u001b[0m\u001b[0maddEdge\u001b[0m\u001b[0;34m(\u001b[0m\u001b[0msubject\u001b[0m\u001b[0;34m,\u001b[0m \u001b[0mobj_\u001b[0m\u001b[0;34m)\u001b[0m\u001b[0;34m\u001b[0m\u001b[0;34m\u001b[0m\u001b[0m\n",
      "\u001b[0;31mNameError\u001b[0m: name 'GraphVisualization' is not defined"
     ]
    }
   ],
   "source": [
    "G = GraphVisualization()\n",
    "\n",
    "for subject,predicate,obj_ in s.returnGraph():\n",
    "    print(predicate)\n",
    "    G.addEdge(subject, obj_)\n",
    "    \n",
    "plt.figure(figsize=(16, 16))\n",
    "ax = plt.gca()\n",
    "ax.set_title('Visualización del grafo')\n",
    "\n",
    "G.visualize()"
   ]
  },
  {
   "cell_type": "code",
   "execution_count": null,
   "metadata": {},
   "outputs": [],
   "source": []
  }
 ],
 "metadata": {
  "kernelspec": {
   "display_name": "Python 3",
   "language": "python",
   "name": "python3"
  },
  "language_info": {
   "codemirror_mode": {
    "name": "ipython",
    "version": 3
   },
   "file_extension": ".py",
   "mimetype": "text/x-python",
   "name": "python",
   "nbconvert_exporter": "python",
   "pygments_lexer": "ipython3",
   "version": "3.8.8"
  }
 },
 "nbformat": 4,
 "nbformat_minor": 4
}
